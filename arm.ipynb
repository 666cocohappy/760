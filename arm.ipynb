{
  "nbformat": 4,
  "nbformat_minor": 0,
  "metadata": {
    "colab": {
      "name": "arm.ipynb",
      "version": "0.3.2",
      "provenance": [],
      "collapsed_sections": [],
      "toc_visible": true,
      "include_colab_link": true
    },
    "kernelspec": {
      "name": "python3",
      "display_name": "Python 3"
    },
    "accelerator": "GPU"
  },
  "cells": [
    {
      "cell_type": "markdown",
      "metadata": {
        "id": "view-in-github",
        "colab_type": "text"
      },
      "source": [
        "<a href=\"https://colab.research.google.com/github/kaiqizhao/760/blob/master/arm.ipynb\" target=\"_parent\"><img src=\"https://colab.research.google.com/assets/colab-badge.svg\" alt=\"Open In Colab\"/></a>"
      ]
    },
    {
      "cell_type": "markdown",
      "metadata": {
        "id": "cqoIkIKz8OO5",
        "colab_type": "text"
      },
      "source": [
        "# Frequent Pattern Mining and Association Analysis on Retail Data\n",
        "\n"
      ]
    },
    {
      "cell_type": "markdown",
      "metadata": {
        "id": "85Cv7UOAKLJd",
        "colab_type": "text"
      },
      "source": [
        "###  Download dataset    \n",
        "\n",
        "We are using a transnational data set which contains all the transactions occurring between 01/12/2010 and 09/12/2011 for a UK-based and registered non-store online retail[1].\n",
        "      \n",
        "[1] Daqing Chen, Sai Liang Sain, and Kun Guo, Data mining for the online retail industry: A case study of RFM model-based customer segmentation using data mining, Journal of Database Marketing and Customer Strategy Management, Vol. 19, No. 3, pp. 197"
      ]
    },
    {
      "cell_type": "code",
      "metadata": {
        "id": "z_StaDlE8erk",
        "colab_type": "code",
        "colab": {}
      },
      "source": [
        "!pip install mlxtend\n",
        "!pip install Orange3-Associate\n",
        "\n",
        "from urllib.request import urlretrieve\n",
        "import os\n",
        "\n",
        "urlretrieve('https://archive.ics.uci.edu/ml/machine-learning-databases/00352/Online%20Retail.xlsx','online_retail.xlsx')"
      ],
      "execution_count": 0,
      "outputs": []
    },
    {
      "cell_type": "markdown",
      "metadata": {
        "id": "PCKILBQe9G-A",
        "colab_type": "text"
      },
      "source": [
        "\n",
        "### Prepocessing\n",
        "\n",
        "We need to assign numeric ids to each item and arrange the data in a list of transactions. For example, we may want to have a transaction list. For example:\n",
        "\n",
        "\n",
        "```\n",
        "[['shoes', 'tennis rackets'],\n",
        " ['milk', 'coke', 'bread'],\n",
        "  ...\n",
        " ['book', 'bookmark', 'paper', 'ink']]\n",
        "```\n",
        "\n",
        "\n",
        "\n"
      ]
    },
    {
      "cell_type": "code",
      "metadata": {
        "id": "7XuMChah9ZIo",
        "colab_type": "code",
        "outputId": "3fccb8bf-c0da-4627-e56b-42429ae47b36",
        "colab": {
          "base_uri": "https://localhost:8080/",
          "height": 51
        }
      },
      "source": [
        "import pandas as pd\n",
        "import numpy as np\n",
        "\n",
        "# load the dataset using pandas\n",
        "data_frame = pd.read_excel('online_retail.xlsx', header=0, columns=['InvoiceNo', 'StockCode', 'Description'], nrows=5000)\n",
        "\n",
        "# transform the stock code in to numeric ids\n",
        "data_frame['StockCode'] = pd.Categorical(data_frame['StockCode'], categories=data_frame['StockCode'].unique()).codes\n",
        "\n",
        "# get a dictionary of stock id --> description\n",
        "item_dict = {row[0]:row[1] for row in data_frame[['StockCode', 'Description']].to_numpy()}\n",
        "print('Total number of unique items: {}'.format(len(item_dict)))\n",
        "\n",
        "# transform the datasets into transactions\n",
        "uids, index = np.unique(data_frame['InvoiceNo'].apply(str).values, True)\n",
        "T = np.split(data_frame['StockCode'].values, index[1:])\n",
        "print('Total number of transactions: {}'.format(len(T)))"
      ],
      "execution_count": 0,
      "outputs": [
        {
          "output_type": "stream",
          "text": [
            "Total number of unique items: 1595\n",
            "Total number of transactions: 300\n"
          ],
          "name": "stdout"
        }
      ]
    },
    {
      "cell_type": "markdown",
      "metadata": {
        "id": "7Xa-lw7_Mbbu",
        "colab_type": "text"
      },
      "source": [
        "## Use Orange3-Associate for frequent patten mining\n",
        "\n",
        "Orange3-Associate implemenets the FP-growth algorithm for mining frequent itemsets."
      ]
    },
    {
      "cell_type": "markdown",
      "metadata": {
        "id": "IPtrgtg6V2-u",
        "colab_type": "text"
      },
      "source": [
        "### Frequent itemset mining\n",
        "\n",
        "We can use fp-growth for mining frequent itemsets using Orange3-Associate. Let's use a minimum support of 10."
      ]
    },
    {
      "cell_type": "code",
      "metadata": {
        "id": "pGqGAbTCV3_X",
        "colab_type": "code",
        "outputId": "864c86cb-5ae3-4599-d2d8-3a0b7a767b3d",
        "colab": {
          "base_uri": "https://localhost:8080/",
          "height": 34
        }
      },
      "source": [
        "from orangecontrib.associate.fpgrowth import *\n",
        "itemsets = dict(frequent_itemsets(T, 10))\n",
        "print('Total number of frequent itemsets found: {}'.format(len(itemsets)))"
      ],
      "execution_count": 0,
      "outputs": [
        {
          "output_type": "stream",
          "text": [
            "Total number of frequent itemsets found: 129613\n"
          ],
          "name": "stdout"
        }
      ]
    },
    {
      "cell_type": "markdown",
      "metadata": {
        "id": "h72xMSz8Iu4x",
        "colab_type": "text"
      },
      "source": [
        "> Let's take a look at what we have found for 3-itemsets"
      ]
    },
    {
      "cell_type": "code",
      "metadata": {
        "id": "8VS7sc8cI5BC",
        "colab_type": "code",
        "outputId": "46327d4e-3bbe-46e1-eb6b-1af388e7efdb",
        "colab": {
          "base_uri": "https://localhost:8080/",
          "height": 224
        }
      },
      "source": [
        "three_itemsets = {item[0]:item[1] for item in itemsets.items() if len(item[0])==3}\n",
        "print('# of 3-itemsets: {}'.format(len(three_itemsets)))\n",
        "\n",
        "most_freq_itemsets = sorted(three_itemsets.items(), key = lambda kv:kv[1], reverse=True)[:10]\n",
        "for itemset in most_freq_itemsets:\n",
        "  print(',  '.join([item_dict[item] for item in list(itemset[0])]))"
      ],
      "execution_count": 0,
      "outputs": [
        {
          "output_type": "stream",
          "text": [
            "# of 3-itemsets: 1625\n",
            "WHITE HANGING HEART T-LIGHT HOLDER,  KNITTED UNION FLAG HOT WATER BOTTLE,  RED WOOLLY HOTTIE WHITE HEART.\n",
            "RETRO COFFEE MUGS ASSORTED,  KNITTED UNION FLAG HOT WATER BOTTLE,  RED WOOLLY HOTTIE WHITE HEART.\n",
            "WHITE HANGING HEART T-LIGHT HOLDER,  VINTAGE BILLBOARD DRINK ME MUG,  RETRO COFFEE MUGS ASSORTED\n",
            "WHITE HANGING HEART T-LIGHT HOLDER,  WHITE METAL LANTERN,  KNITTED UNION FLAG HOT WATER BOTTLE\n",
            "WHITE HANGING HEART T-LIGHT HOLDER,  WHITE METAL LANTERN,  RED WOOLLY HOTTIE WHITE HEART.\n",
            "WHITE METAL LANTERN,  KNITTED UNION FLAG HOT WATER BOTTLE,  RED WOOLLY HOTTIE WHITE HEART.\n",
            "RETRO COFFEE MUGS ASSORTED,  WHITE HANGING HEART T-LIGHT HOLDER,  KNITTED UNION FLAG HOT WATER BOTTLE\n",
            "RETRO COFFEE MUGS ASSORTED,  WHITE HANGING HEART T-LIGHT HOLDER,  RED WOOLLY HOTTIE WHITE HEART.\n",
            "WHITE HANGING HEART T-LIGHT HOLDER,  VINTAGE BILLBOARD DRINK ME MUG,  KNITTED UNION FLAG HOT WATER BOTTLE\n",
            "WHITE HANGING HEART T-LIGHT HOLDER,  VINTAGE BILLBOARD DRINK ME MUG,  RED WOOLLY HOTTIE WHITE HEART.\n"
          ],
          "name": "stdout"
        }
      ]
    },
    {
      "cell_type": "markdown",
      "metadata": {
        "id": "CwfajBVC7HnU",
        "colab_type": "text"
      },
      "source": [
        "### Mining association rules\n",
        "\n",
        "We have got the frequent itemsets. Based on them, we can mine the association rules with a confidence 80%. Let's focus on rules that have 3 items on the LHS and 1 item on the RHS."
      ]
    },
    {
      "cell_type": "code",
      "metadata": {
        "id": "nW382Ti14BCX",
        "colab_type": "code",
        "outputId": "59d64f02-a1c1-46c0-d4e6-9de3ecb02a42",
        "colab": {
          "base_uri": "https://localhost:8080/",
          "height": 122
        }
      },
      "source": [
        "# generat rules from frequent itemsets.\n",
        "rules = [(P, Q, supp, conf) for P, Q, supp, conf in association_rules(itemsets, .8) if len(P)==3 and len(Q)==1]\n",
        "\n",
        "# print each row, replace ids with the actual names of the items\n",
        "for ante, cons, supp, conf in rules[:5]:\n",
        "  print(', '.join(item_dict[i] for i in ante), '-->', ', '.join(item_dict[j] for j in cons), '(supp: {}, conf: {})'.format(supp, conf))"
      ],
      "execution_count": 0,
      "outputs": [
        {
          "output_type": "stream",
          "text": [
            "RED WOOLLY HOTTIE WHITE HEART., HAND WARMER SCOTTY DOG DESIGN, HAND WARMER UNION JACK --> WHITE HANGING HEART T-LIGHT HOLDER (supp: 10, conf: 1.0)\n",
            "WHITE HANGING HEART T-LIGHT HOLDER, HAND WARMER SCOTTY DOG DESIGN, HAND WARMER UNION JACK --> RED WOOLLY HOTTIE WHITE HEART. (supp: 10, conf: 0.8333333333333334)\n",
            "WHITE HANGING HEART T-LIGHT HOLDER, RED WOOLLY HOTTIE WHITE HEART., HAND WARMER UNION JACK --> HAND WARMER SCOTTY DOG DESIGN (supp: 10, conf: 1.0)\n",
            "WHITE HANGING HEART T-LIGHT HOLDER, RED WOOLLY HOTTIE WHITE HEART., HAND WARMER SCOTTY DOG DESIGN --> HAND WARMER UNION JACK (supp: 10, conf: 0.9090909090909091)\n",
            "HAND WARMER RED RETROSPOT, RED WOOLLY HOTTIE WHITE HEART., HAND WARMER SCOTTY DOG DESIGN --> WHITE HANGING HEART T-LIGHT HOLDER (supp: 10, conf: 1.0)\n"
          ],
          "name": "stdout"
        }
      ]
    }
  ]
}